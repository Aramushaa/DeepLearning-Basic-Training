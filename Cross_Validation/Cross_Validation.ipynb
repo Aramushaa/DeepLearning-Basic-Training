{
  "nbformat": 4,
  "nbformat_minor": 0,
  "metadata": {
    "colab": {
      "provenance": [],
      "gpuType": "T4"
    },
    "kernelspec": {
      "name": "python3",
      "display_name": "Python 3"
    },
    "language_info": {
      "name": "python"
    },
    "accelerator": "GPU"
  },
  "cells": [
    {
      "cell_type": "code",
      "execution_count": 1,
      "metadata": {
        "id": "2RM6XtNMY9Tf"
      },
      "outputs": [],
      "source": [
        "from sklearn.datasets import make_classification"
      ]
    },
    {
      "cell_type": "code",
      "source": [
        "X,y = make_classification(n_samples=1000,n_features=10,n_informative=8,n_redundant=2,random_state=0)"
      ],
      "metadata": {
        "id": "q59H-dlWZYS6"
      },
      "execution_count": 2,
      "outputs": []
    },
    {
      "cell_type": "code",
      "source": [
        "X[60]"
      ],
      "metadata": {
        "colab": {
          "base_uri": "https://localhost:8080/"
        },
        "id": "D5vLxhsjaC6d",
        "outputId": "31549778-c757-4fb8-f4ca-1581218bc461"
      },
      "execution_count": 3,
      "outputs": [
        {
          "output_type": "execute_result",
          "data": {
            "text/plain": [
              "array([ 0.55004084,  1.40940304, -2.74862205, -4.80233427,  5.0953792 ,\n",
              "        2.02387354,  1.03232545, -0.91652994, -3.360814  , -1.73222718])"
            ]
          },
          "metadata": {},
          "execution_count": 3
        }
      ]
    },
    {
      "cell_type": "code",
      "source": [
        "y[60]"
      ],
      "metadata": {
        "colab": {
          "base_uri": "https://localhost:8080/"
        },
        "id": "j1_dVRjVaEio",
        "outputId": "89eebf8f-a247-4d9a-c020-b3e67a878c11"
      },
      "execution_count": 4,
      "outputs": [
        {
          "output_type": "execute_result",
          "data": {
            "text/plain": [
              "0"
            ]
          },
          "metadata": {},
          "execution_count": 4
        }
      ]
    },
    {
      "cell_type": "markdown",
      "source": [
        "# Model Definition"
      ],
      "metadata": {
        "id": "vwcsmI65g6E-"
      }
    },
    {
      "cell_type": "code",
      "source": [
        "import tensorflow as tf\n",
        "from tensorflow import keras\n",
        "\n",
        "def create_model():\n",
        "  model = keras.Sequential()\n",
        "  model.add(keras.layers.Dense(units = 32 ,activation = 'relu'))\n",
        "  model.add(keras.layers.Dense(units = 1 ,activation = 'sigmoid'))\n",
        "\n",
        "  model.compile(optimizer = tf.optimizers.Adam(),loss = tf.losses.binary_crossentropy,metrics = ['accuracy'])\n",
        "  return model\n"
      ],
      "metadata": {
        "id": "VDrMJzPJaMMP"
      },
      "execution_count": 24,
      "outputs": []
    },
    {
      "cell_type": "markdown",
      "source": [
        "# Cross Validation"
      ],
      "metadata": {
        "id": "h2mQXsd9g9hY"
      }
    },
    {
      "cell_type": "code",
      "source": [
        "n_splits = 5\n",
        "\n",
        "from sklearn.model_selection import StratifiedKFold\n",
        "from sklearn.metrics import accuracy_score\n",
        "\n",
        "kf = StratifiedKFold(n_splits = n_splits , shuffle = True)\n"
      ],
      "metadata": {
        "id": "SKziF4rkar-3"
      },
      "execution_count": 25,
      "outputs": []
    },
    {
      "cell_type": "code",
      "source": [
        "acc_total = []\n",
        "\n",
        "for train_index,validation_index in kf.split(X,y):\n",
        "\n",
        "  X_train,X_validation = X[train_index],X[validation_index]\n",
        "  y_train,y_validation = y[train_index],y[validation_index]\n",
        "\n",
        "  #model\n",
        "  model = create_model()\n",
        "  model.fit(X_train,y_train,epochs=  20,batch_size = 64,validation_data = (X_validation,y_validation),verbose = 1)\n",
        "\n",
        "  #prediction\n",
        "  y_pred = model.predict(X_validation)\n",
        "  y_pred = (y_pred > 0.5).astype(\"int32\")\n",
        "\n",
        "  #accuracy\n",
        "  acc = accuracy_score(y_validation,y_pred)\n",
        "  acc_total.append(acc)"
      ],
      "metadata": {
        "colab": {
          "base_uri": "https://localhost:8080/"
        },
        "id": "enUIqUcvguzP",
        "outputId": "49bf676e-03d7-48bb-f2ac-7e2444a05762"
      },
      "execution_count": 26,
      "outputs": [
        {
          "output_type": "stream",
          "name": "stdout",
          "text": [
            "Epoch 1/20\n",
            "13/13 [==============================] - 1s 17ms/step - loss: 0.6730 - accuracy: 0.6463 - val_loss: 0.5916 - val_accuracy: 0.7150\n",
            "Epoch 2/20\n",
            "13/13 [==============================] - 0s 7ms/step - loss: 0.5390 - accuracy: 0.7325 - val_loss: 0.4785 - val_accuracy: 0.8150\n",
            "Epoch 3/20\n",
            "13/13 [==============================] - 0s 6ms/step - loss: 0.4471 - accuracy: 0.8225 - val_loss: 0.4032 - val_accuracy: 0.8750\n",
            "Epoch 4/20\n",
            "13/13 [==============================] - 0s 5ms/step - loss: 0.3852 - accuracy: 0.8800 - val_loss: 0.3542 - val_accuracy: 0.8950\n",
            "Epoch 5/20\n",
            "13/13 [==============================] - 0s 6ms/step - loss: 0.3455 - accuracy: 0.9013 - val_loss: 0.3218 - val_accuracy: 0.9100\n",
            "Epoch 6/20\n",
            "13/13 [==============================] - 0s 6ms/step - loss: 0.3175 - accuracy: 0.9100 - val_loss: 0.2984 - val_accuracy: 0.9250\n",
            "Epoch 7/20\n",
            "13/13 [==============================] - 0s 5ms/step - loss: 0.2961 - accuracy: 0.9150 - val_loss: 0.2812 - val_accuracy: 0.9250\n",
            "Epoch 8/20\n",
            "13/13 [==============================] - 0s 6ms/step - loss: 0.2793 - accuracy: 0.9187 - val_loss: 0.2676 - val_accuracy: 0.9250\n",
            "Epoch 9/20\n",
            "13/13 [==============================] - 0s 7ms/step - loss: 0.2658 - accuracy: 0.9237 - val_loss: 0.2564 - val_accuracy: 0.9200\n",
            "Epoch 10/20\n",
            "13/13 [==============================] - 0s 5ms/step - loss: 0.2544 - accuracy: 0.9275 - val_loss: 0.2465 - val_accuracy: 0.9200\n",
            "Epoch 11/20\n",
            "13/13 [==============================] - 0s 5ms/step - loss: 0.2442 - accuracy: 0.9275 - val_loss: 0.2394 - val_accuracy: 0.9300\n",
            "Epoch 12/20\n",
            "13/13 [==============================] - 0s 6ms/step - loss: 0.2358 - accuracy: 0.9312 - val_loss: 0.2331 - val_accuracy: 0.9300\n",
            "Epoch 13/20\n",
            "13/13 [==============================] - 0s 5ms/step - loss: 0.2283 - accuracy: 0.9362 - val_loss: 0.2283 - val_accuracy: 0.9300\n",
            "Epoch 14/20\n",
            "13/13 [==============================] - 0s 6ms/step - loss: 0.2211 - accuracy: 0.9375 - val_loss: 0.2239 - val_accuracy: 0.9300\n",
            "Epoch 15/20\n",
            "13/13 [==============================] - 0s 7ms/step - loss: 0.2153 - accuracy: 0.9375 - val_loss: 0.2193 - val_accuracy: 0.9300\n",
            "Epoch 16/20\n",
            "13/13 [==============================] - 0s 7ms/step - loss: 0.2098 - accuracy: 0.9400 - val_loss: 0.2167 - val_accuracy: 0.9300\n",
            "Epoch 17/20\n",
            "13/13 [==============================] - 0s 5ms/step - loss: 0.2042 - accuracy: 0.9400 - val_loss: 0.2124 - val_accuracy: 0.9300\n",
            "Epoch 18/20\n",
            "13/13 [==============================] - 0s 6ms/step - loss: 0.1995 - accuracy: 0.9400 - val_loss: 0.2100 - val_accuracy: 0.9300\n",
            "Epoch 19/20\n",
            "13/13 [==============================] - 0s 5ms/step - loss: 0.1952 - accuracy: 0.9413 - val_loss: 0.2079 - val_accuracy: 0.9300\n",
            "Epoch 20/20\n",
            "13/13 [==============================] - 0s 5ms/step - loss: 0.1910 - accuracy: 0.9425 - val_loss: 0.2045 - val_accuracy: 0.9300\n",
            "7/7 [==============================] - 0s 2ms/step\n",
            "Epoch 1/20\n",
            "13/13 [==============================] - 1s 57ms/step - loss: 0.7522 - accuracy: 0.4725 - val_loss: 0.6643 - val_accuracy: 0.5300\n",
            "Epoch 2/20\n",
            "13/13 [==============================] - 0s 8ms/step - loss: 0.6240 - accuracy: 0.5987 - val_loss: 0.5629 - val_accuracy: 0.6700\n",
            "Epoch 3/20\n",
            "13/13 [==============================] - 0s 9ms/step - loss: 0.5334 - accuracy: 0.7362 - val_loss: 0.4888 - val_accuracy: 0.7750\n",
            "Epoch 4/20\n",
            "13/13 [==============================] - 0s 8ms/step - loss: 0.4674 - accuracy: 0.8225 - val_loss: 0.4333 - val_accuracy: 0.8450\n",
            "Epoch 5/20\n",
            "13/13 [==============================] - 0s 9ms/step - loss: 0.4175 - accuracy: 0.8700 - val_loss: 0.3892 - val_accuracy: 0.8800\n",
            "Epoch 6/20\n",
            "13/13 [==============================] - 0s 9ms/step - loss: 0.3775 - accuracy: 0.9000 - val_loss: 0.3535 - val_accuracy: 0.8750\n",
            "Epoch 7/20\n",
            "13/13 [==============================] - 0s 10ms/step - loss: 0.3453 - accuracy: 0.9125 - val_loss: 0.3240 - val_accuracy: 0.9000\n",
            "Epoch 8/20\n",
            "13/13 [==============================] - 0s 9ms/step - loss: 0.3189 - accuracy: 0.9225 - val_loss: 0.2996 - val_accuracy: 0.9200\n",
            "Epoch 9/20\n",
            "13/13 [==============================] - 0s 10ms/step - loss: 0.2964 - accuracy: 0.9275 - val_loss: 0.2788 - val_accuracy: 0.9350\n",
            "Epoch 10/20\n",
            "13/13 [==============================] - 0s 12ms/step - loss: 0.2775 - accuracy: 0.9287 - val_loss: 0.2615 - val_accuracy: 0.9300\n",
            "Epoch 11/20\n",
            "13/13 [==============================] - 0s 11ms/step - loss: 0.2613 - accuracy: 0.9325 - val_loss: 0.2463 - val_accuracy: 0.9350\n",
            "Epoch 12/20\n",
            "13/13 [==============================] - 0s 9ms/step - loss: 0.2475 - accuracy: 0.9362 - val_loss: 0.2329 - val_accuracy: 0.9350\n",
            "Epoch 13/20\n",
            "13/13 [==============================] - 0s 9ms/step - loss: 0.2357 - accuracy: 0.9362 - val_loss: 0.2217 - val_accuracy: 0.9350\n",
            "Epoch 14/20\n",
            "13/13 [==============================] - 0s 10ms/step - loss: 0.2251 - accuracy: 0.9425 - val_loss: 0.2119 - val_accuracy: 0.9400\n",
            "Epoch 15/20\n",
            "13/13 [==============================] - 0s 9ms/step - loss: 0.2162 - accuracy: 0.9463 - val_loss: 0.2030 - val_accuracy: 0.9400\n",
            "Epoch 16/20\n",
            "13/13 [==============================] - 0s 6ms/step - loss: 0.2086 - accuracy: 0.9475 - val_loss: 0.1952 - val_accuracy: 0.9450\n",
            "Epoch 17/20\n",
            "13/13 [==============================] - 0s 8ms/step - loss: 0.2016 - accuracy: 0.9500 - val_loss: 0.1889 - val_accuracy: 0.9450\n",
            "Epoch 18/20\n",
            "13/13 [==============================] - 0s 7ms/step - loss: 0.1957 - accuracy: 0.9513 - val_loss: 0.1833 - val_accuracy: 0.9450\n",
            "Epoch 19/20\n",
            "13/13 [==============================] - 0s 5ms/step - loss: 0.1905 - accuracy: 0.9538 - val_loss: 0.1776 - val_accuracy: 0.9450\n",
            "Epoch 20/20\n",
            "13/13 [==============================] - 0s 6ms/step - loss: 0.1860 - accuracy: 0.9550 - val_loss: 0.1736 - val_accuracy: 0.9500\n",
            "7/7 [==============================] - 0s 2ms/step\n",
            "Epoch 1/20\n",
            "13/13 [==============================] - 1s 17ms/step - loss: 0.6525 - accuracy: 0.6612 - val_loss: 0.5393 - val_accuracy: 0.7300\n",
            "Epoch 2/20\n",
            "13/13 [==============================] - 0s 6ms/step - loss: 0.5323 - accuracy: 0.7437 - val_loss: 0.4487 - val_accuracy: 0.8100\n",
            "Epoch 3/20\n",
            "13/13 [==============================] - 0s 6ms/step - loss: 0.4513 - accuracy: 0.8213 - val_loss: 0.3904 - val_accuracy: 0.8650\n",
            "Epoch 4/20\n",
            "13/13 [==============================] - 0s 5ms/step - loss: 0.3956 - accuracy: 0.8625 - val_loss: 0.3512 - val_accuracy: 0.8900\n",
            "Epoch 5/20\n",
            "13/13 [==============================] - 0s 5ms/step - loss: 0.3570 - accuracy: 0.8825 - val_loss: 0.3219 - val_accuracy: 0.9050\n",
            "Epoch 6/20\n",
            "13/13 [==============================] - 0s 5ms/step - loss: 0.3280 - accuracy: 0.8925 - val_loss: 0.3000 - val_accuracy: 0.9050\n",
            "Epoch 7/20\n",
            "13/13 [==============================] - 0s 6ms/step - loss: 0.3067 - accuracy: 0.8925 - val_loss: 0.2814 - val_accuracy: 0.9100\n",
            "Epoch 8/20\n",
            "13/13 [==============================] - 0s 5ms/step - loss: 0.2890 - accuracy: 0.8988 - val_loss: 0.2671 - val_accuracy: 0.9200\n",
            "Epoch 9/20\n",
            "13/13 [==============================] - 0s 5ms/step - loss: 0.2745 - accuracy: 0.9075 - val_loss: 0.2543 - val_accuracy: 0.9300\n",
            "Epoch 10/20\n",
            "13/13 [==============================] - 0s 7ms/step - loss: 0.2630 - accuracy: 0.9087 - val_loss: 0.2433 - val_accuracy: 0.9250\n",
            "Epoch 11/20\n",
            "13/13 [==============================] - 0s 7ms/step - loss: 0.2521 - accuracy: 0.9150 - val_loss: 0.2334 - val_accuracy: 0.9300\n",
            "Epoch 12/20\n",
            "13/13 [==============================] - 0s 5ms/step - loss: 0.2434 - accuracy: 0.9200 - val_loss: 0.2246 - val_accuracy: 0.9300\n",
            "Epoch 13/20\n",
            "13/13 [==============================] - 0s 5ms/step - loss: 0.2357 - accuracy: 0.9225 - val_loss: 0.2178 - val_accuracy: 0.9300\n",
            "Epoch 14/20\n",
            "13/13 [==============================] - 0s 6ms/step - loss: 0.2289 - accuracy: 0.9262 - val_loss: 0.2113 - val_accuracy: 0.9350\n",
            "Epoch 15/20\n",
            "13/13 [==============================] - 0s 6ms/step - loss: 0.2227 - accuracy: 0.9275 - val_loss: 0.2049 - val_accuracy: 0.9450\n",
            "Epoch 16/20\n",
            "13/13 [==============================] - 0s 6ms/step - loss: 0.2168 - accuracy: 0.9287 - val_loss: 0.2001 - val_accuracy: 0.9400\n",
            "Epoch 17/20\n",
            "13/13 [==============================] - 0s 6ms/step - loss: 0.2120 - accuracy: 0.9262 - val_loss: 0.1954 - val_accuracy: 0.9400\n",
            "Epoch 18/20\n",
            "13/13 [==============================] - 0s 5ms/step - loss: 0.2071 - accuracy: 0.9275 - val_loss: 0.1912 - val_accuracy: 0.9400\n",
            "Epoch 19/20\n",
            "13/13 [==============================] - 0s 5ms/step - loss: 0.2035 - accuracy: 0.9275 - val_loss: 0.1871 - val_accuracy: 0.9450\n",
            "Epoch 20/20\n",
            "13/13 [==============================] - 0s 6ms/step - loss: 0.1996 - accuracy: 0.9300 - val_loss: 0.1838 - val_accuracy: 0.9500\n",
            "7/7 [==============================] - 0s 2ms/step\n",
            "Epoch 1/20\n",
            "13/13 [==============================] - 1s 17ms/step - loss: 0.7128 - accuracy: 0.5525 - val_loss: 0.6427 - val_accuracy: 0.5950\n",
            "Epoch 2/20\n",
            "13/13 [==============================] - 0s 5ms/step - loss: 0.5809 - accuracy: 0.6812 - val_loss: 0.5346 - val_accuracy: 0.7050\n",
            "Epoch 3/20\n",
            "13/13 [==============================] - 0s 6ms/step - loss: 0.4904 - accuracy: 0.8025 - val_loss: 0.4641 - val_accuracy: 0.8100\n",
            "Epoch 4/20\n",
            "13/13 [==============================] - 0s 5ms/step - loss: 0.4306 - accuracy: 0.8425 - val_loss: 0.4153 - val_accuracy: 0.8550\n",
            "Epoch 5/20\n",
            "13/13 [==============================] - 0s 5ms/step - loss: 0.3846 - accuracy: 0.8750 - val_loss: 0.3797 - val_accuracy: 0.8700\n",
            "Epoch 6/20\n",
            "13/13 [==============================] - 0s 5ms/step - loss: 0.3510 - accuracy: 0.8875 - val_loss: 0.3522 - val_accuracy: 0.8800\n",
            "Epoch 7/20\n",
            "13/13 [==============================] - 0s 6ms/step - loss: 0.3240 - accuracy: 0.9038 - val_loss: 0.3300 - val_accuracy: 0.8950\n",
            "Epoch 8/20\n",
            "13/13 [==============================] - 0s 6ms/step - loss: 0.3013 - accuracy: 0.9100 - val_loss: 0.3116 - val_accuracy: 0.8950\n",
            "Epoch 9/20\n",
            "13/13 [==============================] - 0s 6ms/step - loss: 0.2833 - accuracy: 0.9150 - val_loss: 0.2976 - val_accuracy: 0.8900\n",
            "Epoch 10/20\n",
            "13/13 [==============================] - 0s 6ms/step - loss: 0.2671 - accuracy: 0.9225 - val_loss: 0.2849 - val_accuracy: 0.8900\n",
            "Epoch 11/20\n",
            "13/13 [==============================] - 0s 6ms/step - loss: 0.2538 - accuracy: 0.9262 - val_loss: 0.2752 - val_accuracy: 0.8950\n",
            "Epoch 12/20\n",
            "13/13 [==============================] - 0s 5ms/step - loss: 0.2423 - accuracy: 0.9300 - val_loss: 0.2672 - val_accuracy: 0.8950\n",
            "Epoch 13/20\n",
            "13/13 [==============================] - 0s 7ms/step - loss: 0.2324 - accuracy: 0.9312 - val_loss: 0.2596 - val_accuracy: 0.9050\n",
            "Epoch 14/20\n",
            "13/13 [==============================] - 0s 7ms/step - loss: 0.2232 - accuracy: 0.9375 - val_loss: 0.2541 - val_accuracy: 0.9050\n",
            "Epoch 15/20\n",
            "13/13 [==============================] - 0s 7ms/step - loss: 0.2158 - accuracy: 0.9400 - val_loss: 0.2483 - val_accuracy: 0.9050\n",
            "Epoch 16/20\n",
            "13/13 [==============================] - 0s 5ms/step - loss: 0.2085 - accuracy: 0.9400 - val_loss: 0.2455 - val_accuracy: 0.9100\n",
            "Epoch 17/20\n",
            "13/13 [==============================] - 0s 6ms/step - loss: 0.2026 - accuracy: 0.9438 - val_loss: 0.2407 - val_accuracy: 0.9150\n",
            "Epoch 18/20\n",
            "13/13 [==============================] - 0s 7ms/step - loss: 0.1968 - accuracy: 0.9463 - val_loss: 0.2384 - val_accuracy: 0.9200\n",
            "Epoch 19/20\n",
            "13/13 [==============================] - 0s 6ms/step - loss: 0.1920 - accuracy: 0.9475 - val_loss: 0.2349 - val_accuracy: 0.9200\n",
            "Epoch 20/20\n",
            "13/13 [==============================] - 0s 6ms/step - loss: 0.1870 - accuracy: 0.9475 - val_loss: 0.2339 - val_accuracy: 0.9200\n",
            "7/7 [==============================] - 0s 2ms/step\n",
            "Epoch 1/20\n",
            "13/13 [==============================] - 1s 16ms/step - loss: 1.1254 - accuracy: 0.4963 - val_loss: 0.9451 - val_accuracy: 0.5000\n",
            "Epoch 2/20\n",
            "13/13 [==============================] - 0s 5ms/step - loss: 0.8739 - accuracy: 0.5213 - val_loss: 0.7367 - val_accuracy: 0.5350\n",
            "Epoch 3/20\n",
            "13/13 [==============================] - 0s 7ms/step - loss: 0.6880 - accuracy: 0.6150 - val_loss: 0.5952 - val_accuracy: 0.6800\n",
            "Epoch 4/20\n",
            "13/13 [==============================] - 0s 6ms/step - loss: 0.5666 - accuracy: 0.7237 - val_loss: 0.5097 - val_accuracy: 0.8050\n",
            "Epoch 5/20\n",
            "13/13 [==============================] - 0s 6ms/step - loss: 0.4904 - accuracy: 0.7812 - val_loss: 0.4544 - val_accuracy: 0.8550\n",
            "Epoch 6/20\n",
            "13/13 [==============================] - 0s 7ms/step - loss: 0.4382 - accuracy: 0.8250 - val_loss: 0.4158 - val_accuracy: 0.8750\n",
            "Epoch 7/20\n",
            "13/13 [==============================] - 0s 5ms/step - loss: 0.3996 - accuracy: 0.8512 - val_loss: 0.3858 - val_accuracy: 0.8900\n",
            "Epoch 8/20\n",
            "13/13 [==============================] - 0s 6ms/step - loss: 0.3690 - accuracy: 0.8700 - val_loss: 0.3609 - val_accuracy: 0.8950\n",
            "Epoch 9/20\n",
            "13/13 [==============================] - 0s 8ms/step - loss: 0.3441 - accuracy: 0.8775 - val_loss: 0.3404 - val_accuracy: 0.9000\n",
            "Epoch 10/20\n",
            "13/13 [==============================] - 0s 11ms/step - loss: 0.3224 - accuracy: 0.8863 - val_loss: 0.3225 - val_accuracy: 0.9100\n",
            "Epoch 11/20\n",
            "13/13 [==============================] - 0s 9ms/step - loss: 0.3044 - accuracy: 0.8988 - val_loss: 0.3077 - val_accuracy: 0.9100\n",
            "Epoch 12/20\n",
            "13/13 [==============================] - 0s 10ms/step - loss: 0.2884 - accuracy: 0.9062 - val_loss: 0.2953 - val_accuracy: 0.9100\n",
            "Epoch 13/20\n",
            "13/13 [==============================] - 0s 9ms/step - loss: 0.2745 - accuracy: 0.9112 - val_loss: 0.2839 - val_accuracy: 0.9100\n",
            "Epoch 14/20\n",
            "13/13 [==============================] - 0s 9ms/step - loss: 0.2624 - accuracy: 0.9150 - val_loss: 0.2742 - val_accuracy: 0.9150\n",
            "Epoch 15/20\n",
            "13/13 [==============================] - 0s 8ms/step - loss: 0.2516 - accuracy: 0.9175 - val_loss: 0.2652 - val_accuracy: 0.9200\n",
            "Epoch 16/20\n",
            "13/13 [==============================] - 0s 8ms/step - loss: 0.2422 - accuracy: 0.9200 - val_loss: 0.2573 - val_accuracy: 0.9200\n",
            "Epoch 17/20\n",
            "13/13 [==============================] - 0s 8ms/step - loss: 0.2339 - accuracy: 0.9262 - val_loss: 0.2503 - val_accuracy: 0.9200\n",
            "Epoch 18/20\n",
            "13/13 [==============================] - 0s 9ms/step - loss: 0.2264 - accuracy: 0.9300 - val_loss: 0.2450 - val_accuracy: 0.9250\n",
            "Epoch 19/20\n",
            "13/13 [==============================] - 0s 11ms/step - loss: 0.2197 - accuracy: 0.9400 - val_loss: 0.2401 - val_accuracy: 0.9250\n",
            "Epoch 20/20\n",
            "13/13 [==============================] - 0s 9ms/step - loss: 0.2137 - accuracy: 0.9362 - val_loss: 0.2348 - val_accuracy: 0.9250\n",
            "7/7 [==============================] - 0s 3ms/step\n"
          ]
        }
      ]
    },
    {
      "cell_type": "code",
      "source": [
        "acc_total"
      ],
      "metadata": {
        "colab": {
          "base_uri": "https://localhost:8080/"
        },
        "id": "-v1Auu5IkZhN",
        "outputId": "6b85bc6b-f09a-437b-b60e-280254c97079"
      },
      "execution_count": 27,
      "outputs": [
        {
          "output_type": "execute_result",
          "data": {
            "text/plain": [
              "[0.93, 0.95, 0.95, 0.92, 0.925]"
            ]
          },
          "metadata": {},
          "execution_count": 27
        }
      ]
    },
    {
      "cell_type": "code",
      "source": [
        "import numpy as np\n",
        "np.mean(acc_total)"
      ],
      "metadata": {
        "colab": {
          "base_uri": "https://localhost:8080/"
        },
        "id": "doY2ivc-lAqv",
        "outputId": "d716b0b5-91eb-49ca-cb1b-1d791c02c540"
      },
      "execution_count": 28,
      "outputs": [
        {
          "output_type": "execute_result",
          "data": {
            "text/plain": [
              "0.9349999999999999"
            ]
          },
          "metadata": {},
          "execution_count": 28
        }
      ]
    },
    {
      "cell_type": "code",
      "source": [],
      "metadata": {
        "id": "16lL-jQBlZ79"
      },
      "execution_count": null,
      "outputs": []
    }
  ]
}